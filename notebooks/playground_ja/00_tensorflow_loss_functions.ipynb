{
 "cells": [
  {
   "cell_type": "markdown",
   "metadata": {},
   "source": [
    "# 損失関数\n",
    "\n",
    "損失関数はニューラルネットワークにおいて、モデルの出力と目的値との間の誤差を計測するための関数のことです。\n",
    "機械学習では入力の値に対して、パラメータを調整して、求める出力の値に近づけていきます。\n",
    "\n",
    "ここでは、よく使われる損失関数の概要を説明し、TensorFlowで使う場合のサンプルコードを紹介したいと思います。"
   ]
  },
  {
   "cell_type": "markdown",
   "metadata": {},
   "source": [
    "## 事前準備\n",
    "\n",
    "まずサンプルコードで使用するパッケージをインポートします。"
   ]
  },
  {
   "cell_type": "code",
   "execution_count": 77,
   "metadata": {},
   "outputs": [],
   "source": [
    "import tensorflow as tf\n",
    "import numpy as np\n",
    "import matplotlib.pyplot as plt\n",
    "\n",
    "sess = tf.Session()"
   ]
  },
  {
   "cell_type": "markdown",
   "metadata": {},
   "source": [
    "### 回帰用途の損失関数"
   ]
  },
  {
   "cell_type": "code",
   "execution_count": 78,
   "metadata": {},
   "outputs": [],
   "source": [
    "#: 予測値\n",
    "x_vals_r = tf.linspace(-1.0, 1.0, 500)\n",
    "\n",
    "#: 目的地\n",
    "target_r = tf.constant(0.0)"
   ]
  },
  {
   "cell_type": "markdown",
   "metadata": {},
   "source": [
    "#### L2 Loss (ユークリッド損失関数)"
   ]
  },
  {
   "cell_type": "code",
   "execution_count": 79,
   "metadata": {},
   "outputs": [],
   "source": [
    "l2_y_vals = tf.square(target_r - x_vals_r)\n",
    "l2_y_out = sess.run(l2_y_vals)"
   ]
  },
  {
   "cell_type": "markdown",
   "metadata": {},
   "source": [
    "#### L1 Loss (絶対損失関数)"
   ]
  },
  {
   "cell_type": "code",
   "execution_count": 80,
   "metadata": {},
   "outputs": [],
   "source": [
    "l1_y_vals = tf.abs(target_r - x_vals_r)\n",
    "l1_y_out = sess.run(l1_y_vals)"
   ]
  },
  {
   "cell_type": "markdown",
   "metadata": {},
   "source": [
    "#### Pseudo-Huber損失関数"
   ]
  },
  {
   "cell_type": "code",
   "execution_count": 81,
   "metadata": {},
   "outputs": [],
   "source": [
    "delta1 = tf.constant(0.25)\n",
    "phuber1_y_vals = tf.multiply(\n",
    "    tf.square(delta1),\n",
    "    tf.sqrt(1.0 + tf.square((target_r - x_vals_r) / delta1)) - 1.0\n",
    ")\n",
    "phuber1_y_out = sess.run(phuber1_y_vals)\n",
    "\n",
    "delta2 = tf.constant(5.0)\n",
    "phuber2_y_vals = tf.multiply(\n",
    "    tf.square(delta2),\n",
    "    tf.sqrt(1.0 + tf.square((target_r - x_vals_r) / delta2)) - 1.0\n",
    ")\n",
    "phuber2_y_out = sess.run(phuber2_y_vals)"
   ]
  },
  {
   "cell_type": "markdown",
   "metadata": {},
   "source": [
    "### 回帰用途の各損失関数の比較"
   ]
  },
  {
   "cell_type": "code",
   "execution_count": 82,
   "metadata": {},
   "outputs": [
    {
     "data": {
      "image/png": "[encoded data removed]",
      "text/plain": [
       "<matplotlib.figure.Figure at 0x7fa618b1e6d8>"
      ]
     },
     "metadata": {},
     "output_type": "display_data"
    }
   ],
   "source": [
    "x_array_r = sess.run(x_vals_r)\n",
    "\n",
    "plt.plot(x_array_r, l2_y_out, 'b-', label='L2 Loss')\n",
    "plt.plot(x_array_r, l1_y_out, 'r--', label='L1 Loss')\n",
    "plt.plot(x_array_r, phuber1_y_out, 'k--', label='P-Huber Loss (0.25)')\n",
    "plt.plot(x_array_r, phuber2_y_out, 'g:', label='P-Huber Loss (5.0)')\n",
    "plt.ylim(-0.2, 0.4)\n",
    "plt.legend(loc='lower right', prop={'size': 11})\n",
    "plt.show()"
   ]
  },
  {
   "cell_type": "markdown",
   "metadata": {},
   "source": [
    "### 分類用途の損失関数"
   ]
  },
  {
   "cell_type": "code",
   "execution_count": 83,
   "metadata": {},
   "outputs": [],
   "source": [
    "#: 予測値\n",
    "x_vals_c = tf.linspace(-3.0, 5.0, 500)\n",
    "\n",
    "#: 目的地\n",
    "target_c = tf.constant(1.0)\n",
    "\n",
    "targets_c = tf.fill([500,], 1.0)"
   ]
  },
  {
   "cell_type": "markdown",
   "metadata": {},
   "source": [
    "#### ヒンジ損失関数\n",
    "\n",
    "[tf.losses.hinge_loss](https://www.tensorflow.org/api_docs/python/tf/losses/hinge_loss)"
   ]
  },
  {
   "cell_type": "code",
   "execution_count": 84,
   "metadata": {},
   "outputs": [],
   "source": [
    "hinge_y_vals = tf.maximum(0.0, 1.0 -tf.multiply(target_c, x_vals_c))\n",
    "hinge_y_out = sess.run(hinge_y_vals)"
   ]
  },
  {
   "cell_type": "markdown",
   "metadata": {},
   "source": [
    "#### 交差エントロピー損失関数"
   ]
  },
  {
   "cell_type": "code",
   "execution_count": 85,
   "metadata": {},
   "outputs": [],
   "source": [
    "crossentropy_y_vals = -tf.multiply(target_c, tf.log(x_vals_c)) - tf.multiply((1.0 - target_c), tf.log(1.0 - x_vals_c))\n",
    "crossentropy_y_out = sess.run(crossentropy_y_vals)"
   ]
  },
  {
   "cell_type": "markdown",
   "metadata": {},
   "source": [
    "#### シグモイド交差エントロピー損失関数"
   ]
  },
  {
   "cell_type": "code",
   "execution_count": 86,
   "metadata": {},
   "outputs": [],
   "source": [
    "# labels_sig = tf.constant([[0.1, 0.02, 0.88]])\n",
    "# logits_sig = tf.constant([[1.0, -3.0, 10.0]])\n",
    "\n",
    "# sigmoid_crossentropy_y_vals = tf.nn.sigmoid_cross_entropy_with_logits(\n",
    "#     labels=labels_sig,\n",
    "#     logits=logits_sig\n",
    "# )\n",
    "# sigmoid_crossentropy_y_out = sess.run(sigmoid_crossentropy_y_vals)"
   ]
  },
  {
   "cell_type": "markdown",
   "metadata": {},
   "source": [
    "#### 重み付き交差エントロピー損失関数"
   ]
  },
  {
   "cell_type": "code",
   "execution_count": 87,
   "metadata": {},
   "outputs": [],
   "source": [
    "pos_weight = tf.constant(0.5)\n",
    "weighted_crossentropy_y_vals = tf.nn.weighted_cross_entropy_with_logits(\n",
    "    x_vals_c,\n",
    "    targets_c,\n",
    "    pos_weight\n",
    ")\n",
    "weighted_crossentropy_y_out = sess.run(weighted_crossentropy_y_vals)"
   ]
  },
  {
   "cell_type": "markdown",
   "metadata": {},
   "source": [
    "#### ソフトマックス交差エントロピー損失関数"
   ]
  },
  {
   "cell_type": "code",
   "execution_count": 88,
   "metadata": {},
   "outputs": [],
   "source": [
    "labels_s = tf.constant([[0.1, 0.02, 0.88]])\n",
    "logits_s = tf.constant([[1.0, -3.0, 10.0]])\n",
    "\n",
    "softmax_cross_entropy_y_vals = tf.nn.softmax_cross_entropy_with_logits(\n",
    "    labels=labels_s,\n",
    "    logits=logits_s\n",
    ")\n",
    "softmax_cross_entropy_y_out = sess.run(softmax_cross_entropy_y_vals)"
   ]
  },
  {
   "cell_type": "markdown",
   "metadata": {},
   "source": [
    "#### 疎なソフトマックス交差エントロピー損失関数"
   ]
  },
  {
   "cell_type": "code",
   "execution_count": 89,
   "metadata": {},
   "outputs": [],
   "source": [
    "labels_ss = tf.constant([2])\n",
    "logits_ss = tf.constant([[1.0, -3.0, 10.0]])\n",
    "\n",
    "sparse_softmax_cross_entropy_y_vals = tf.nn.sparse_softmax_cross_entropy_with_logits(\n",
    "    labels=labels_ss,\n",
    "    logits=logits_ss\n",
    ")\n",
    "sparse_softmax_cross_entropy_y_out = sess.run(sparse_softmax_cross_entropy_y_vals)"
   ]
  },
  {
   "cell_type": "markdown",
   "metadata": {},
   "source": [
    "### 分類用途の各損失関数の比較"
   ]
  },
  {
   "cell_type": "code",
   "execution_count": 90,
   "metadata": {},
   "outputs": [
    {
     "data": {
      "image/png": "[encoded data removed]",
      "text/plain": [
       "<matplotlib.figure.Figure at 0x7fa618d2b828>"
      ]
     },
     "metadata": {},
     "output_type": "display_data"
    }
   ],
   "source": [
    "x_array_c = sess.run(x_vals_c)\n",
    "\n",
    "plt.plot(x_array_c, hinge_y_out, 'b-', label='Hinge Loss')\n",
    "plt.plot(x_array_c, crossentropy_y_out, 'r--', label='Cross Entropy Loss')\n",
    "# plt.plot(x_array_c, sigmoid_crossentropy_y_out, 'r--', label='Sigmoid Cross Entropy Loss')\n",
    "plt.plot(x_array_c, weighted_crossentropy_y_out, 'k--', label='Weighted Cross Entropy Loss')\n",
    "# plt.plot(x_array_c, softmax_cross_entropy_y_out, 'r--', label='Softmax Cross Entropy Loss')\n",
    "# plt.plot(x_array_c, sparse_softmax_cross_entropy_y_out, 'r--', label='Sparse Softmax Cross Entropy Loss')\n",
    "plt.ylim(-1.5, 3.0)\n",
    "plt.legend(loc='lower right', prop={'size': 11})\n",
    "plt.show()"
   ]
  },
  {
   "cell_type": "markdown",
   "metadata": {},
   "source": [
    "## 参照\n",
    "\n",
    "* [Losses - Neural Network - TensorFlow](https://www.tensorflow.org/api_guides/python/nn#Losses)\n",
    "* [交差エントロピー - WikiPedia](https://ja.wikipedia.org/wiki/交差エントロピー)\n",
    "* [損失関数について、ざっくりと考える - Qiita](https://qiita.com/mine820/items/f8a8c03ef1a7b390e372)\n",
    "* [機械学習で抑えておくべき損失関数（回帰編） - HELLO CYBERNETICS](http://s0sem0y.hatenablog.com/entry/2017/06/19/084210)"
   ]
  }
 ],
 "metadata": {
  "kernelspec": {
   "display_name": "Python 3",
   "language": "python",
   "name": "python3"
  },
  "language_info": {
   "codemirror_mode": {
    "name": "ipython",
    "version": 3
   },
   "file_extension": ".py",
   "mimetype": "text/x-python",
   "name": "python",
   "nbconvert_exporter": "python",
   "pygments_lexer": "ipython3",
   "version": "3.5.2"
  }
 },
 "nbformat": 4,
 "nbformat_minor": 2
}
