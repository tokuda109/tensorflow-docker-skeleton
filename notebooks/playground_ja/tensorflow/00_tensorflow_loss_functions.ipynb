{
 "cells": [
  {
   "cell_type": "markdown",
   "metadata": {},
   "source": [
    "# 損失関数 (Loss Functions)\n",
    "\n",
    "損失関数はニューラルネットワークにおいて、モデルの出力と目的値との間の誤差を計測するための関数のことです。このため、損失関数は誤差関数とも言われています。  \n",
    "機械学習では入力の値に対してパラメータを調整して、求める出力の値に近づけていきます。\n",
    "\n",
    "問題の種類によって、以下の損失関数を分類分けすることができます。\n",
    "\n",
    "* 回帰\n",
    "* クラス分類\n",
    "\n",
    "ここでは、損失関数の概要を説明し、TensorFlowで使う場合のサンプルコードを紹介したいと思います。"
   ]
  },
  {
   "cell_type": "markdown",
   "metadata": {},
   "source": [
    "## 事前準備\n",
    "\n",
    "まずサンプルコードで使用するパッケージをインポートして、説明に必要なデータを定義します。"
   ]
  },
  {
   "cell_type": "code",
   "execution_count": 1,
   "metadata": {},
   "outputs": [],
   "source": [
    "import tensorflow as tf\n",
    "import numpy as np\n",
    "import matplotlib.pyplot as plt\n",
    "\n",
    "sess = tf.Session()\n",
    "\n",
    "zero_values_op = tf.zeros([300])\n",
    "one_values_op = tf.ones([300])\n",
    "\n",
    "predictions_op = tf.linspace(-3.0, 3.0, 300)\n",
    "logits_op = tf.linspace(-3.0, 5.0, 300)\n",
    "\n",
    "predictions = sess.run(predictions_op)\n",
    "logits = sess.run(logits_op)"
   ]
  },
  {
   "cell_type": "markdown",
   "metadata": {},
   "source": [
    "## 回帰用途の損失関数\n",
    "\n",
    "回帰で用いられる損失関数は以下のものがあります。  \n",
    "これらは出力に連続値を取るような目的の値を対象としています。\n",
    "\n",
    "* L1 Loss (絶対損失関数)\n",
    "* L2 Loss (ユークリッド損失関数)\n",
    "* Huber損失関数"
   ]
  },
  {
   "cell_type": "markdown",
   "metadata": {},
   "source": [
    "### L1損失関数 (絶対損失関数)\n",
    "\n",
    "[tf.losses.absolute_difference](https://www.tensorflow.org/api_docs/python/tf/losses/absolute_difference)"
   ]
  },
  {
   "cell_type": "code",
   "execution_count": 2,
   "metadata": {},
   "outputs": [],
   "source": [
    "l1_loss_values = sess.run(tf.losses.absolute_difference(\n",
    "    zero_values_op,\n",
    "    predictions_op,\n",
    "    reduction=tf.losses.Reduction.NONE\n",
    "))"
   ]
  },
  {
   "cell_type": "markdown",
   "metadata": {},
   "source": [
    "### L2損失関数 (ユークリッド損失関数)\n",
    "\n",
    "[tf.nn.l2_loss](https://www.tensorflow.org/api_docs/python/tf/nn/l2_loss)"
   ]
  },
  {
   "cell_type": "code",
   "execution_count": 3,
   "metadata": {},
   "outputs": [],
   "source": [
    "l2_loss_values = sess.run(tf.square(zero_values_op - predictions_op))"
   ]
  },
  {
   "cell_type": "markdown",
   "metadata": {},
   "source": [
    "### Huber損失関数\n",
    "\n",
    "[tf.losses.huber_loss](https://www.tensorflow.org/api_docs/python/tf/losses/huber_loss)"
   ]
  },
  {
   "cell_type": "code",
   "execution_count": 4,
   "metadata": {},
   "outputs": [],
   "source": [
    "huber_loss_values = sess.run(tf.losses.huber_loss(\n",
    "    zero_values_op,\n",
    "    predictions_op,\n",
    "    reduction=tf.losses.Reduction.NONE\n",
    "))"
   ]
  },
  {
   "cell_type": "markdown",
   "metadata": {},
   "source": [
    "### 回帰用途の各損失関数の比較"
   ]
  },
  {
   "cell_type": "code",
   "execution_count": 5,
   "metadata": {},
   "outputs": [
    {
     "data": {
      "image/png": "[encoded data removed]",
      "text/plain": [
       "<matplotlib.figure.Figure at 0x7fb396d53128>"
      ]
     },
     "metadata": {},
     "output_type": "display_data"
    }
   ],
   "source": [
    "plt.plot(predictions, l1_loss_values,    'r:', label='L1 Loss')\n",
    "plt.plot(predictions, l2_loss_values,    'b:', label='L2 Loss')\n",
    "plt.plot(predictions, huber_loss_values, 'g:', label='Huber Loss')\n",
    "\n",
    "plt.ylim(-2.0, 4.0)\n",
    "plt.grid(color='gray')\n",
    "plt.legend(loc='lower right', prop={'size': 11})\n",
    "plt.show()"
   ]
  },
  {
   "cell_type": "markdown",
   "metadata": {},
   "source": [
    "## 分類用途の損失関数\n",
    "\n",
    "多クラス分類で用いられる損失関数は以下のものがあります。\n",
    "\n",
    "* ヒンジ損失関数 (Hinge Loss Function)\n",
    "* 交差エントロピー損失関数\n",
    "* シグモイド交差エントロピー損失関数\n",
    "* 重み付き交差エントロピー損失関数\n",
    "* ソフトマックス交差エントロピー損失関数"
   ]
  },
  {
   "cell_type": "markdown",
   "metadata": {},
   "source": [
    "### ヒンジ損失関数 (Hinge Loss Function)\n",
    "\n",
    "[tf.losses.hinge_loss](https://www.tensorflow.org/api_docs/python/tf/losses/hinge_loss)"
   ]
  },
  {
   "cell_type": "code",
   "execution_count": 6,
   "metadata": {},
   "outputs": [],
   "source": [
    "hinge_loss_values = sess.run(tf.losses.hinge_loss(\n",
    "    one_values_op,\n",
    "    logits_op,\n",
    "    reduction=tf.losses.Reduction.NONE\n",
    "))"
   ]
  },
  {
   "cell_type": "markdown",
   "metadata": {},
   "source": [
    "### 交差エントロピー損失関数"
   ]
  },
  {
   "cell_type": "code",
   "execution_count": 7,
   "metadata": {},
   "outputs": [],
   "source": [
    "cross_entropy_loss_values = sess.run(\n",
    "    -tf.multiply(tf.constant(1.0), tf.log(logits)) - tf.multiply((1.0 - tf.constant(1.0)), tf.log(1.0 - logits))\n",
    ")"
   ]
  },
  {
   "cell_type": "markdown",
   "metadata": {},
   "source": [
    "### シグモイド交差エントロピー損失関数\n",
    "\n",
    "* [tf.losses.sigmoid_cross_entropy](https://www.tensorflow.org/api_docs/python/tf/losses/sigmoid_cross_entropy)\n",
    "* [tf.nn.sigmoid_cross_entropy_with_logits](https://www.tensorflow.org/api_docs/python/tf/nn/sigmoid_cross_entropy_with_logits)"
   ]
  },
  {
   "cell_type": "code",
   "execution_count": 8,
   "metadata": {},
   "outputs": [],
   "source": [
    "sigmoid_cross_entropy_loss_values = sess.run(tf.nn.sigmoid_cross_entropy_with_logits(\n",
    "    labels=one_values_op,\n",
    "    logits=logits_op\n",
    "))"
   ]
  },
  {
   "cell_type": "markdown",
   "metadata": {},
   "source": [
    "### 重み付き交差エントロピー損失関数\n",
    "\n",
    "* [tf.nn.weighted_cross_entropy_with_logits](https://www.tensorflow.org/api_docs/python/tf/nn/weighted_cross_entropy_with_logits)"
   ]
  },
  {
   "cell_type": "code",
   "execution_count": 9,
   "metadata": {},
   "outputs": [],
   "source": [
    "pos_weight = tf.constant(0.5)\n",
    "weighted_cross_entropy_loss_values = sess.run(tf.nn.weighted_cross_entropy_with_logits(\n",
    "    one_values_op,\n",
    "    logits_op,\n",
    "    pos_weight\n",
    "))"
   ]
  },
  {
   "cell_type": "markdown",
   "metadata": {},
   "source": [
    "### ソフトマックス交差エントロピー損失関数\n",
    "\n",
    "* [tf.losses.softmax_cross_entropy](https://www.tensorflow.org/api_docs/python/tf/losses/softmax_cross_entropy)\n",
    "* [tf.nn.softmax_cross_entropy_with_logits](https://www.tensorflow.org/api_docs/python/tf/nn/softmax_cross_entropy_with_logits)"
   ]
  },
  {
   "cell_type": "code",
   "execution_count": 10,
   "metadata": {},
   "outputs": [
    {
     "name": "stdout",
     "output_type": "stream",
     "text": [
      "[ 1.16012561]\n"
     ]
    }
   ],
   "source": [
    "softmax_cross_entropy_loss_values = sess.run(\n",
    "    tf.nn.softmax_cross_entropy_with_logits(\n",
    "        labels=tf.constant([[0.1, 0.02, 0.88]]),\n",
    "        logits=tf.constant([[1.0, -3.0, 10.0]])\n",
    "    )\n",
    ")\n",
    "\n",
    "print(softmax_cross_entropy_loss_values)"
   ]
  },
  {
   "cell_type": "markdown",
   "metadata": {},
   "source": [
    "### 疎なソフトマックス交差エントロピー損失関数\n",
    "\n",
    "* [tf.losses.sparse_softmax_cross_entropy](https://www.tensorflow.org/api_docs/python/tf/losses/sparse_softmax_cross_entropy)\n",
    "* [tf.nn.sparse_softmax_cross_entropy_with_logits](https://www.tensorflow.org/api_docs/python/tf/nn/sparse_softmax_cross_entropy_with_logits)"
   ]
  },
  {
   "cell_type": "code",
   "execution_count": 11,
   "metadata": {},
   "outputs": [
    {
     "name": "stdout",
     "output_type": "stream",
     "text": [
      "[ 0.00012564]\n"
     ]
    }
   ],
   "source": [
    "sparse_softmax_cross_entropy_loss_values = sess.run(\n",
    "    tf.nn.sparse_softmax_cross_entropy_with_logits(\n",
    "        labels=tf.constant([2]),\n",
    "        logits=tf.constant([[1.0, -3.0, 10.0]])\n",
    "    )\n",
    ")\n",
    "\n",
    "print(sparse_softmax_cross_entropy_loss_values)"
   ]
  },
  {
   "cell_type": "markdown",
   "metadata": {},
   "source": [
    "### 分類用途の各損失関数の比較"
   ]
  },
  {
   "cell_type": "code",
   "execution_count": 12,
   "metadata": {},
   "outputs": [
    {
     "data": {
      "image/png": "[encoded data removed]",
      "text/plain": [
       "<matplotlib.figure.Figure at 0x7fb3941e8208>"
      ]
     },
     "metadata": {},
     "output_type": "display_data"
    }
   ],
   "source": [
    "plt.plot(logits, hinge_loss_values,                  'r:', label='Hinge Loss')\n",
    "plt.plot(logits, cross_entropy_loss_values,          'b:', label='Cross Entropy Loss')\n",
    "plt.plot(logits, sigmoid_cross_entropy_loss_values,  'g:', label='Sigmoid Cross Entropy Loss')\n",
    "plt.plot(logits, weighted_cross_entropy_loss_values, 'k--', label='Weighted Cross Entropy Loss')\n",
    "\n",
    "plt.ylim(-2, 4.0)\n",
    "plt.grid(color='gray')\n",
    "plt.legend(loc='lower right', prop={'size': 11})\n",
    "plt.show()"
   ]
  },
  {
   "cell_type": "markdown",
   "metadata": {},
   "source": [
    "## 参照\n",
    "\n",
    "* 4.2 損失関数\n",
    "* [Losses - Neural Network - TensorFlow](https://www.tensorflow.org/api_guides/python/nn#Losses)\n",
    "* [活性化関数 - WikiPedia](https://ja.wikipedia.org/wiki/活性化関数)\n",
    "* [交差エントロピー - WikiPedia](https://ja.wikipedia.org/wiki/交差エントロピー)\n",
    "* [損失関数について、ざっくりと考える - Qiita](https://qiita.com/mine820/items/f8a8c03ef1a7b390e372)\n",
    "* [機械学習で抑えておくべき損失関数（回帰編） - HELLO CYBERNETICS](http://s0sem0y.hatenablog.com/entry/2017/06/19/084210)"
   ]
  }
 ],
 "metadata": {
  "kernelspec": {
   "display_name": "Python 3",
   "language": "python",
   "name": "python3"
  },
  "language_info": {
   "codemirror_mode": {
    "name": "ipython",
    "version": 3
   },
   "file_extension": ".py",
   "mimetype": "text/x-python",
   "name": "python",
   "nbconvert_exporter": "python",
   "pygments_lexer": "ipython3",
   "version": "3.5.2"
  }
 },
 "nbformat": 4,
 "nbformat_minor": 2
}
